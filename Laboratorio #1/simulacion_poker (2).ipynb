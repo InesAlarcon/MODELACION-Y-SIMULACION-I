{
 "cells": [
  {
   "cell_type": "markdown",
   "metadata": {},
   "source": [
    "Inés Alarcón \n",
    "16008450\n",
    "\n",
    "\n",
    "# Laboratorio No.1"
   ]
  },
  {
   "cell_type": "markdown",
   "metadata": {},
   "source": [
    "Importamos Librerías"
   ]
  },
  {
   "cell_type": "code",
   "execution_count": 1,
   "metadata": {},
   "outputs": [],
   "source": [
    "import random\n",
    "from itertools import product, combinations\n",
    "from collections import Counter"
   ]
  },
  {
   "cell_type": "markdown",
   "metadata": {},
   "source": [
    "Armamos la Baraja de Cartas"
   ]
  },
  {
   "cell_type": "code",
   "execution_count": 2,
   "metadata": {
    "scrolled": true
   },
   "outputs": [
    {
     "name": "stdout",
     "output_type": "stream",
     "text": [
      "[('A', 'Diamantes'), ('A', 'Corazones'), ('A', 'Treboles'), ('A', 'Pikas'), ('2', 'Diamantes'), ('2', 'Corazones'), ('2', 'Treboles'), ('2', 'Pikas'), ('3', 'Diamantes'), ('3', 'Corazones'), ('3', 'Treboles'), ('3', 'Pikas'), ('4', 'Diamantes'), ('4', 'Corazones'), ('4', 'Treboles'), ('4', 'Pikas'), ('5', 'Diamantes'), ('5', 'Corazones'), ('5', 'Treboles'), ('5', 'Pikas'), ('6', 'Diamantes'), ('6', 'Corazones'), ('6', 'Treboles'), ('6', 'Pikas'), ('7', 'Diamantes'), ('7', 'Corazones'), ('7', 'Treboles'), ('7', 'Pikas'), ('8', 'Diamantes'), ('8', 'Corazones'), ('8', 'Treboles'), ('8', 'Pikas'), ('9', 'Diamantes'), ('9', 'Corazones'), ('9', 'Treboles'), ('9', 'Pikas'), ('10', 'Diamantes'), ('10', 'Corazones'), ('10', 'Treboles'), ('10', 'Pikas'), ('J', 'Diamantes'), ('J', 'Corazones'), ('J', 'Treboles'), ('J', 'Pikas'), ('Q', 'Diamantes'), ('Q', 'Corazones'), ('Q', 'Treboles'), ('Q', 'Pikas'), ('K', 'Diamantes'), ('K', 'Corazones'), ('K', 'Treboles'), ('K', 'Pikas')]\n"
     ]
    }
   ],
   "source": [
    "numeros = ['A', '2', '3', '4', '5', '6', '7', '8', '9', '10', 'J', 'Q', 'K']\n",
    "manjares = ['Diamantes', 'Corazones', 'Treboles', 'Pikas']\n",
    "colores = ['Rojo', 'Negro']\n",
    "\n",
    "baraja = list(product(numeros, manjares))\n",
    "print(baraja)"
   ]
  },
  {
   "cell_type": "markdown",
   "metadata": {},
   "source": [
    "Función"
   ]
  },
  {
   "cell_type": "code",
   "execution_count": 3,
   "metadata": {},
   "outputs": [
    {
     "name": "stdout",
     "output_type": "stream",
     "text": [
      "Probabilidad de obtener Dos pares: 0.047539\n",
      "Probabilidad de obtener Full house: 0.001441\n",
      "Probabilidad de obtener Escalera: 0.003532\n",
      "Probabilidad de obtener Escalera de color: 0.000014\n",
      "Probabilidad de obtener Otra mano: 0.947474\n"
     ]
    }
   ],
   "source": [
    "def es_escalera(valores):\n",
    "    valores_ordenados = sorted(valores, key=lambda x: numeros.index(x))\n",
    "    indices = [numeros.index(v) for v in valores_ordenados]\n",
    "    return indices == list(range(indices[0], indices[0] + 5))\n",
    "\n",
    "def evaluar_mano(mano):\n",
    "    valores, palos = zip(*mano)\n",
    "    conteo_valores = Counter(valores)\n",
    "    conteo_palos = Counter(palos)\n",
    "\n",
    "    if len(conteo_valores) == 3 and list(conteo_valores.values()).count(2) == 2:\n",
    "        return \"Dos pares\"\n",
    "\n",
    "    if len(conteo_valores) == 2 and 3 in conteo_valores.values():\n",
    "        return \"Full house\"\n",
    "\n",
    "    if es_escalera(valores):\n",
    "        if len(conteo_palos) == 1:\n",
    "            return \"Escalera de color\"\n",
    "        return \"Escalera\"\n",
    "\n",
    "    return \"Otra mano\"\n",
    "\n",
    "# Generar todas las posibles manos\n",
    "todas_las_manos = combinations(baraja, 5)\n",
    "\n",
    "contador = {\"Dos pares\": 0, \"Full house\": 0, \"Escalera\": 0, \"Escalera de color\": 0, \"Otra mano\": 0}\n",
    "for mano in todas_las_manos:\n",
    "    resultado = evaluar_mano(mano)\n",
    "    contador[resultado] += 1\n",
    "\n",
    "total_manos = len(list(combinations(baraja, 5)))\n",
    "for mano, cuenta in contador.items():\n",
    "    probabilidad = cuenta / total_manos\n",
    "    print(f\"Probabilidad de obtener {mano}: {probabilidad:.6f}\")"
   ]
  }
 ],
 "metadata": {
  "kernelspec": {
   "display_name": "Python 3 (ipykernel)",
   "language": "python",
   "name": "python3"
  },
  "language_info": {
   "codemirror_mode": {
    "name": "ipython",
    "version": 3
   },
   "file_extension": ".py",
   "mimetype": "text/x-python",
   "name": "python",
   "nbconvert_exporter": "python",
   "pygments_lexer": "ipython3",
   "version": "3.11.5"
  }
 },
 "nbformat": 4,
 "nbformat_minor": 2
}
