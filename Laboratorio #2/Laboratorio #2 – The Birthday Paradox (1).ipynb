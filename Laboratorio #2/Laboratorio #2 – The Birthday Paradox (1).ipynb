{
 "cells": [
  {
   "cell_type": "markdown",
   "id": "a10c772e",
   "metadata": {},
   "source": [
    "Inés Alarcón\n",
    "16008450\n",
    "\n",
    "### Laboratorio #2 – The Birthday Paradox"
   ]
  },
  {
   "cell_type": "code",
   "execution_count": 2,
   "id": "e486bba6",
   "metadata": {},
   "outputs": [],
   "source": [
    "import numpy as np"
   ]
  },
  {
   "cell_type": "code",
   "execution_count": 3,
   "id": "1bbe647b",
   "metadata": {},
   "outputs": [],
   "source": [
    "def birthday_paradox(N, n, simulations=10000):\n",
    "    # Genera todas las simulaciones de cumpleaños en una matriz\n",
    "    cumpleaños = np.random.randint(1, 365, (simulations, N))\n",
    "    conteos = np.apply_along_axis(lambda x: np.bincount(x, minlength=365), axis=1, arr=cumpleaños)\n",
    "    resultados = np.any(conteos >= n, axis=1)\n",
    "    return np.mean(resultados)"
   ]
  },
  {
   "cell_type": "code",
   "execution_count": 4,
   "id": "efee5e88",
   "metadata": {},
   "outputs": [
    {
     "name": "stdout",
     "output_type": "stream",
     "text": [
      "Probabilidad de que al menos 2 personas en un grupo de 20 compartan el mismo cumpleaños: 0.4130\n",
      "Probabilidad de que al menos 2 personas en un grupo de 200 compartan el mismo cumpleaños: 1.0000\n",
      "Probabilidad de que al menos 3 personas en un grupo de 100 compartan el mismo cumpleaños: 0.6478\n",
      "Probabilidad de que al menos 10 personas en un grupo de 1000 compartan el mismo cumpleaños: 0.1841\n"
     ]
    }
   ],
   "source": [
    "def ejecutar_simulaciones():\n",
    "    escenarios = [\n",
    "        (20, 2),\n",
    "        (200, 2),\n",
    "        (100, 3),\n",
    "        (1000, 10)\n",
    "    ]\n",
    "    \n",
    "    for N, n in escenarios:\n",
    "        probabilidad = birthday_paradox(N, n)\n",
    "        print(f\"Probabilidad de que al menos {n} personas en un grupo de {N} compartan el mismo cumpleaños: {probabilidad:.4f}\")\n",
    "\n",
    "ejecutar_simulaciones()"
   ]
  }
 ],
 "metadata": {
  "kernelspec": {
   "display_name": "Python 3 (ipykernel)",
   "language": "python",
   "name": "python3"
  },
  "language_info": {
   "codemirror_mode": {
    "name": "ipython",
    "version": 3
   },
   "file_extension": ".py",
   "mimetype": "text/x-python",
   "name": "python",
   "nbconvert_exporter": "python",
   "pygments_lexer": "ipython3",
   "version": "3.11.5"
  }
 },
 "nbformat": 4,
 "nbformat_minor": 5
}
