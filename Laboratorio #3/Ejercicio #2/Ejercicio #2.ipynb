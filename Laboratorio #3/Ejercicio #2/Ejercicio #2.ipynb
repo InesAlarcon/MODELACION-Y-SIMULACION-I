{
 "cells": [
  {
   "cell_type": "code",
   "execution_count": 1,
   "id": "12cbda49",
   "metadata": {},
   "outputs": [],
   "source": [
    "import pandas as pd\n",
    "from sklearn.model_selection import train_test_split\n",
    "from sklearn.linear_model import LinearRegression\n",
    "from sklearn.metrics import mean_squared_error\n",
    "import numpy as np"
   ]
  },
  {
   "cell_type": "code",
   "execution_count": 2,
   "id": "95647100",
   "metadata": {},
   "outputs": [
    {
     "name": "stdout",
     "output_type": "stream",
     "text": [
      "       Unnamed: 0          TV       Radio   Newspaper       Sales\n",
      "count  200.000000  200.000000  200.000000  200.000000  200.000000\n",
      "mean   100.500000  147.042500   23.264000   30.554000   14.022500\n",
      "std     57.879185   85.854236   14.846809   21.778621    5.217457\n",
      "min      1.000000    0.700000    0.000000    0.300000    1.600000\n",
      "25%     50.750000   74.375000    9.975000   12.750000   10.375000\n",
      "50%    100.500000  149.750000   22.900000   25.750000   12.900000\n",
      "75%    150.250000  218.825000   36.525000   45.100000   17.400000\n",
      "max    200.000000  296.400000   49.600000  114.000000   27.000000\n",
      "            Unnamed: 0        TV     Radio  Newspaper     Sales\n",
      "Unnamed: 0    1.000000  0.017715 -0.110680  -0.154944 -0.051616\n",
      "TV            0.017715  1.000000  0.054809   0.056648  0.782224\n",
      "Radio        -0.110680  0.054809  1.000000   0.354104  0.576223\n",
      "Newspaper    -0.154944  0.056648  0.354104   1.000000  0.228299\n",
      "Sales        -0.051616  0.782224  0.576223   0.228299  1.000000\n"
     ]
    }
   ],
   "source": [
    "df = pd.read_csv('Advertising.csv')\n",
    "print(df.describe())\n",
    "print(df.corr())"
   ]
  },
  {
   "cell_type": "markdown",
   "id": "3889b4aa",
   "metadata": {},
   "source": [
    "Modelo de regresión lineal"
   ]
  },
  {
   "cell_type": "code",
   "execution_count": 3,
   "id": "dcde301e",
   "metadata": {},
   "outputs": [
    {
     "name": "stdout",
     "output_type": "stream",
     "text": [
      "Error cuadrático medio: 3.1740973539761046\n",
      "Coeficientes del modelo: [0.04472952 0.18919505 0.00276111]\n",
      "Intercepto: 2.979067338122629\n"
     ]
    }
   ],
   "source": [
    "X = df[['TV', 'Radio', 'Newspaper']]\n",
    "y = df['Sales']\n",
    "\n",
    "X_train, X_test, y_train, y_test = train_test_split(X, y, test_size=0.2, random_state=42)\n",
    "\n",
    "modelo = LinearRegression()\n",
    "modelo.fit(X_train, y_train)\n",
    "\n",
    "y_pred = modelo.predict(X_test)\n",
    "\n",
    "mse = mean_squared_error(y_test, y_pred)\n",
    "print(f'Error cuadrático medio: {mse}')\n",
    "\n",
    "print('Coeficientes del modelo:', modelo.coef_)\n",
    "print('Intercepto:', modelo.intercept_)"
   ]
  },
  {
   "cell_type": "markdown",
   "id": "cda1106e",
   "metadata": {},
   "source": [
    "Distribuciones de probabilidad"
   ]
  },
  {
   "cell_type": "code",
   "execution_count": 4,
   "id": "b25ff277",
   "metadata": {},
   "outputs": [
    {
     "name": "stdout",
     "output_type": "stream",
     "text": [
      "(0.7, 149.75, 296.4) (0.0, 22.9, 49.6) (0.3, 25.75, 114.0)\n"
     ]
    }
   ],
   "source": [
    "def obtener_parametros_distribucion(variable):\n",
    "    min_val = variable.min()\n",
    "    max_val = variable.max()\n",
    "    mode_val = variable.median()\n",
    "\n",
    "    # Asegurarse de que el orden de los parámetros es correcto\n",
    "    if mode_val < min_val:\n",
    "        mode_val = min_val\n",
    "    elif mode_val > max_val:\n",
    "        mode_val = max_val\n",
    "\n",
    "    return min_val, mode_val, max_val\n",
    "\n",
    "tv_params = obtener_parametros_distribucion(df['TV'])\n",
    "radio_params = obtener_parametros_distribucion(df['Radio'])\n",
    "newspaper_params = obtener_parametros_distribucion(df['Newspaper'])\n",
    "\n",
    "print(tv_params, radio_params, newspaper_params)"
   ]
  },
  {
   "cell_type": "markdown",
   "id": "40e53f03",
   "metadata": {},
   "source": [
    "Simulación de Montecarlo"
   ]
  },
  {
   "cell_type": "code",
   "execution_count": 5,
   "id": "c172e613",
   "metadata": {},
   "outputs": [
    {
     "name": "stdout",
     "output_type": "stream",
     "text": [
      "           TV      Radio  Newspaper      Sales\n",
      "0  223.991140  12.924973  15.499384  15.486220\n",
      "1   97.344767  30.382263  40.372119  13.192898\n",
      "2  179.244508  37.989523  25.489987  18.254398\n",
      "3   74.487860  20.191237  69.193228  10.322006\n",
      "4  165.353989  34.522589  37.897250  17.011413\n"
     ]
    }
   ],
   "source": [
    "def simulacion_montecarlo(tv_params, radio_params, newspaper_params, intentos=1000):\n",
    "    resultados = []\n",
    "    for _ in range(intentos):\n",
    "        tv = np.random.triangular(*tv_params)\n",
    "        radio = np.random.triangular(*radio_params)\n",
    "        newspaper = np.random.triangular(*newspaper_params)\n",
    "        entrada = pd.DataFrame([[tv, radio, newspaper]], columns=['TV', 'Radio', 'Newspaper'])\n",
    "        ventas = modelo.predict(entrada)[0]\n",
    "        resultados.append((tv, radio, newspaper, ventas))\n",
    "    return resultados\n",
    "\n",
    "resultados = simulacion_montecarlo(tv_params, radio_params, newspaper_params)\n",
    "\n",
    "resultados_df = pd.DataFrame(resultados, columns=['TV', 'Radio', 'Newspaper', 'Sales'])\n",
    "print(resultados_df.head())"
   ]
  },
  {
   "cell_type": "markdown",
   "id": "5a7a7ccc",
   "metadata": {},
   "source": [
    "Valor del presupuesto"
   ]
  },
  {
   "cell_type": "code",
   "execution_count": 7,
   "id": "c93211c2",
   "metadata": {},
   "outputs": [
    {
     "name": "stdout",
     "output_type": "stream",
     "text": [
      "Presupuesto normalizado (TV): 67.64%\n",
      "Presupuesto normalizado (Radio): 10.97%\n",
      "Presupuesto normalizado (Newspaper): 21.39%\n"
     ]
    }
   ],
   "source": [
    "promedios = resultados_df.mean()\n",
    "\n",
    "total_promedios = promedios['TV'] + promedios['Radio'] + promedios['Newspaper']\n",
    "tv_percent = promedios['TV'] / total_promedios\n",
    "radio_percent = promedios['Radio'] / total_promedios\n",
    "newspaper_percent = promedios['Newspaper'] / total_promedios\n",
    "\n",
    "print(f'Presupuesto normalizado (TV): {tv_percent:.2%}')\n",
    "print(f'Presupuesto normalizado (Radio): {radio_percent:.2%}')\n",
    "print(f'Presupuesto normalizado (Newspaper): {newspaper_percent:.2%}')"
   ]
  }
 ],
 "metadata": {
  "kernelspec": {
   "display_name": "Python 3 (ipykernel)",
   "language": "python",
   "name": "python3"
  },
  "language_info": {
   "codemirror_mode": {
    "name": "ipython",
    "version": 3
   },
   "file_extension": ".py",
   "mimetype": "text/x-python",
   "name": "python",
   "nbconvert_exporter": "python",
   "pygments_lexer": "ipython3",
   "version": "3.11.5"
  }
 },
 "nbformat": 4,
 "nbformat_minor": 5
}
